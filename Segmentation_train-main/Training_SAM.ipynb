{
 "cells": [
  {
   "cell_type": "markdown",
   "id": "bf361f10",
   "metadata": {},
   "source": [
    "## Load model weights"
   ]
  },
  {
   "cell_type": "code",
   "execution_count": null,
   "id": "34901ac1",
   "metadata": {},
   "outputs": [],
   "source": [
    "from segment_anything import build_sam, SamAutomaticMaskGenerator, sam_model_registry\n",
    "mask_generator = SamAutomaticMaskGenerator(build_sam(checkpoint=\"</models/checkpoints/sam_vit_b_01ec64.pth\"))\n",
    "testing_image = 'sample/test_image.jpg'\n",
    "masks = mask_generator.generate()"
   ]
  },
  {
   "cell_type": "code",
   "execution_count": null,
   "id": "ff0a92e4",
   "metadata": {},
   "outputs": [],
   "source": [
    "sam_model = sam_model_registry[\"SAM\"](checkpoint=\"/models/checkpoints/sam_vit_b_01ec64.pth\"\")"
   ]
  },
  {
   "cell_type": "markdown",
   "id": "ab9ded59",
   "metadata": {},
   "source": [
    "## Training model"
   ]
  },
  {
   "cell_type": "code",
   "execution_count": null,
   "id": "cd7d9578",
   "metadata": {},
   "outputs": [],
   "source": [
    "import torch\n",
    "import torchvision.models as models\n",
    "import torch.nn as nn\n",
    "import torch.optim as optim\n",
    "from torch.utils.data import DataLoader\n",
    "from torchvision.datasets import ImageFolder\n",
    "from torchvision.transforms import transforms\n",
    "\n",
    "# Define the transforms\n",
    "transform = transforms.Compose([\n",
    "    transforms.ToTensor(),\n",
    "    transforms.Normalize(mean=[0.5, 0.5, 0.5], std=[0.5, 0.5, 0.5])\n",
    "])\n",
    "\n",
    "# Define the dataset and dataloader for the input images\n",
    "dataset = ImageFolder('samples/dataset', transform=transform)\n",
    "dataloader = DataLoader(dataset, batch_size=16, shuffle=True)\n",
    "\n",
    "# Adjust the model architecture to handle large input size\n",
    "sam_model.backbone.conv1 = nn.Conv2d(3, 2048, kernel_size=35, stride=3, padding=3, bias=False)\n",
    "\n",
    "# Define the loss function and optimizer\n",
    "criterion = nn.CrossEntropyLoss()\n",
    "optimizer = optim.Adam(sam_model.parameters(), lr=0.001)\n",
    "\n",
    "# Train the model on the large dataset with image size of 5000x3600\n",
    "for epoch in range(10):\n",
    "    for i, data in enumerate(dataloader):\n",
    "        inputs, labels = data\n",
    "        optimizer.zero_grad()\n",
    "        outputs = sam_model(inputs)\n",
    "        loss = criterion(outputs['out'], labels)\n",
    "        loss.backward()\n",
    "        optimizer.step()\n",
    "        print('Epoch: {}, Batch: {}, Loss: {}'.format(epoch, i, loss.item()))\n",
    "\n",
    "# Save the trained model\n",
    "torch.save(sam_model.state_dict(), 'models/sam_model.pth')"
   ]
  }
 ],
 "metadata": {
  "kernelspec": {
   "display_name": "Python 3 (ipykernel)",
   "language": "python",
   "name": "python3"
  },
  "language_info": {
   "codemirror_mode": {
    "name": "ipython",
    "version": 3
   },
   "file_extension": ".py",
   "mimetype": "text/x-python",
   "name": "python",
   "nbconvert_exporter": "python",
   "pygments_lexer": "ipython3",
   "version": "3.9.13"
  }
 },
 "nbformat": 4,
 "nbformat_minor": 5
}
