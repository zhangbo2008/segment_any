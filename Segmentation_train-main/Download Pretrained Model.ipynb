{
 "cells": [
  {
   "cell_type": "markdown",
   "id": "76a1b725",
   "metadata": {},
   "source": [
    "## Download the file checkpoints"
   ]
  },
  {
   "cell_type": "code",
   "execution_count": 1,
   "id": "6e8cb54b",
   "metadata": {},
   "outputs": [
    {
     "name": "stdout",
     "output_type": "stream",
     "text": [
      "Requirement already satisfied: huggingface_hub in /Users/shanedo/opt/anaconda3/lib/python3.9/site-packages (0.10.1)\n",
      "Requirement already satisfied: pyyaml>=5.1 in /Users/shanedo/opt/anaconda3/lib/python3.9/site-packages (from huggingface_hub) (6.0)\n",
      "Requirement already satisfied: filelock in /Users/shanedo/opt/anaconda3/lib/python3.9/site-packages (from huggingface_hub) (3.9.0)\n",
      "Requirement already satisfied: typing-extensions>=3.7.4.3 in /Users/shanedo/opt/anaconda3/lib/python3.9/site-packages (from huggingface_hub) (4.4.0)\n",
      "Requirement already satisfied: packaging>=20.9 in /Users/shanedo/opt/anaconda3/lib/python3.9/site-packages (from huggingface_hub) (23.0)\n",
      "Requirement already satisfied: tqdm in /Users/shanedo/opt/anaconda3/lib/python3.9/site-packages (from huggingface_hub) (4.65.0)\n",
      "Requirement already satisfied: requests in /Users/shanedo/opt/anaconda3/lib/python3.9/site-packages (from huggingface_hub) (2.28.1)\n",
      "Requirement already satisfied: urllib3<1.27,>=1.21.1 in /Users/shanedo/opt/anaconda3/lib/python3.9/site-packages (from requests->huggingface_hub) (1.26.14)\n",
      "Requirement already satisfied: charset-normalizer<3,>=2 in /Users/shanedo/opt/anaconda3/lib/python3.9/site-packages (from requests->huggingface_hub) (2.0.4)\n",
      "Requirement already satisfied: certifi>=2017.4.17 in /Users/shanedo/opt/anaconda3/lib/python3.9/site-packages (from requests->huggingface_hub) (2022.12.7)\n",
      "Requirement already satisfied: idna<4,>=2.5 in /Users/shanedo/opt/anaconda3/lib/python3.9/site-packages (from requests->huggingface_hub) (3.4)\n"
     ]
    }
   ],
   "source": [
    "!pip install huggingface_hub"
   ]
  },
  {
   "cell_type": "code",
   "execution_count": null,
   "id": "c25c8bd2",
   "metadata": {},
   "outputs": [],
   "source": [
    "!pip install git+https://github.com/facebookresearch/segment-anything.git"
   ]
  },
  {
   "cell_type": "code",
   "execution_count": null,
   "id": "f7af51ad",
   "metadata": {},
   "outputs": [],
   "source": [
    "from huggingface_hub import hf_hub_download\n",
    "\n",
    "chkpt_path = hf_hub_download(repo_id=\"facebook/segment-anything\", \n",
    "                             filename=\"checkpoints/sam_vit_b_01ec64.pth\", \n",
    "                             local_dir=\"models\")"
   ]
  }
 ],
 "metadata": {
  "kernelspec": {
   "display_name": "Python 3 (ipykernel)",
   "language": "python",
   "name": "python3"
  },
  "language_info": {
   "codemirror_mode": {
    "name": "ipython",
    "version": 3
   },
   "file_extension": ".py",
   "mimetype": "text/x-python",
   "name": "python",
   "nbconvert_exporter": "python",
   "pygments_lexer": "ipython3",
   "version": "3.9.13"
  }
 },
 "nbformat": 4,
 "nbformat_minor": 5
}
